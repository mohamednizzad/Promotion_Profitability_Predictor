{
 "cells": [
  {
   "cell_type": "code",
   "execution_count": 1,
   "id": "5f86408b-6ebd-4de0-a4be-69c95372091d",
   "metadata": {},
   "outputs": [
    {
     "name": "stdout",
     "output_type": "stream",
     "text": [
      "  SKU_ID Store_ID  Week  Sales_Units\n",
      "0  SKU_1  STORE_1     1          112\n",
      "1  SKU_1  STORE_1     2           97\n",
      "2  SKU_1  STORE_1     3          116\n",
      "3  SKU_1  STORE_1     4          138\n",
      "4  SKU_1  STORE_1     5           94\n",
      "\n",
      "Total rows generated: 520000\n"
     ]
    }
   ],
   "source": [
    "import pandas as pd\n",
    "import numpy as np\n",
    "from itertools import product\n",
    "\n",
    "# Parameters for the simulation\n",
    "NUM_SKUS = 1000\n",
    "NUM_STORES = 20\n",
    "NUM_WEEKS = 26\n",
    "BASELINE_MU = 100\n",
    "BASELINE_SIGMA = 25\n",
    "\n",
    "# 1. Create the base combinations (SKU, Store, Week)\n",
    "skus = [f'SKU_{i}' for i in range(1, NUM_SKUS + 1)]\n",
    "stores = [f'STORE_{j}' for j in range(1, NUM_STORES + 1)]\n",
    "weeks = np.arange(1, NUM_WEEKS + 1)\n",
    "\n",
    "base_data = list(product(skus, stores, weeks))\n",
    "df = pd.DataFrame(base_data, columns=['SKU_ID', 'Store_ID', 'Week'])\n",
    "\n",
    "# 2. Calculate the Sales Units with normal distribution\n",
    "# Total number of data points = 1000 * 20 * 26 = 520,000\n",
    "num_rows = len(df)\n",
    "np.random.seed(42) # For reproducibility\n",
    "\n",
    "# Generate the sales units, rounded to the nearest whole number (units must be integers)\n",
    "df['Sales_Units'] = np.round(\n",
    "    np.random.normal(loc=BASELINE_MU, scale=BASELINE_SIGMA, size=num_rows)\n",
    ").astype(int)\n",
    "\n",
    "# Ensure sales units are not negative (set a floor of 1 unit)\n",
    "df['Sales_Units'] = df['Sales_Units'].clip(lower=1)\n",
    "\n",
    "print(df.head())\n",
    "print(f\"\\nTotal rows generated: {len(df)}\")"
   ]
  },
  {
   "cell_type": "code",
   "execution_count": 2,
   "id": "2b05476e-9129-41a0-8fb8-7cc6fa8603b9",
   "metadata": {},
   "outputs": [
    {
     "name": "stdout",
     "output_type": "stream",
     "text": [
      "  SKU_ID Store_ID  Week  Sales_Units  Baseline_Sales  Is_Promoted\n",
      "0  SKU_1  STORE_1     1          112             112            0\n",
      "1  SKU_1  STORE_1     2          132              97            1\n",
      "2  SKU_1  STORE_1     3          156             116            1\n",
      "3  SKU_1  STORE_1     4          138             138            0\n",
      "4  SKU_1  STORE_1     5           94              94            0\n",
      "5  SKU_1  STORE_1     6           94              94            0\n",
      "6  SKU_1  STORE_1     7          139             139            0\n",
      "7  SKU_1  STORE_1     8          151             119            1\n",
      "8  SKU_1  STORE_1     9           88              88            0\n",
      "9  SKU_1  STORE_1    10          139             114            1\n"
     ]
    }
   ],
   "source": [
    "# 1. Save the original sales as the Baseline\n",
    "df['Baseline_Sales'] = df['Sales_Units']\n",
    "\n",
    "# Parameters\n",
    "PROMOTION_RATE = 0.3 # 30% of rows will have a promotion\n",
    "AVG_UPLIFT = 0.30 # 30% average uplift\n",
    "\n",
    "# 2. Randomly assign promotion flag\n",
    "np.random.seed(42)\n",
    "df['Is_Promoted'] = np.random.choice([0, 1], size=len(df), p=[1 - PROMOTION_RATE, PROMOTION_RATE])\n",
    "\n",
    "# 3. Create a random uplift factor (e.g., between 20% and 40% for realism)\n",
    "df['Uplift_Factor'] = np.random.uniform(1.20, 1.40, size=len(df))\n",
    "\n",
    "# 4. Apply the uplift ONLY to promoted rows\n",
    "promoted_mask = df['Is_Promoted'] == 1\n",
    "df.loc[promoted_mask, 'Sales_Units'] = np.round(\n",
    "    df.loc[promoted_mask, 'Sales_Units'] * df.loc[promoted_mask, 'Uplift_Factor']\n",
    ").astype(int)\n",
    "\n",
    "# 5. Clean up the temporary column\n",
    "df = df.drop(columns=['Uplift_Factor'])\n",
    "\n",
    "# df now contains 'Sales_Units' (Actual Sales) and 'Baseline_Sales'\n",
    "print(df.head(10))"
   ]
  },
  {
   "cell_type": "code",
   "execution_count": 3,
   "id": "d670c859-16c9-4e8f-b852-75804d1799b0",
   "metadata": {},
   "outputs": [
    {
     "name": "stdout",
     "output_type": "stream",
     "text": [
      "\n",
      "--- Sales Lift Analysis ---\n",
      "    Sales_Units  Baseline_Sales  Incremental_Sales_Lift\n",
      "1           132              97                      35\n",
      "2           156             116                      40\n",
      "7           151             119                      32\n",
      "9           139             114                      25\n",
      "11          115              88                      27\n",
      "   Sales_Units  Baseline_Sales  Incremental_Sales_Lift\n",
      "0          112             112                       0\n",
      "3          138             138                       0\n",
      "4           94              94                       0\n",
      "5           94              94                       0\n",
      "6          139             139                       0\n"
     ]
    }
   ],
   "source": [
    "df['Incremental_Sales_Lift'] = df['Sales_Units'] - df['Baseline_Sales']\n",
    "\n",
    "# Let's inspect the results, particularly for promoted vs. non-promoted weeks\n",
    "print(\"\\n--- Sales Lift Analysis ---\")\n",
    "print(df[df['Is_Promoted'] == 1][['Sales_Units', 'Baseline_Sales', 'Incremental_Sales_Lift']].head())\n",
    "print(df[df['Is_Promoted'] == 0][['Sales_Units', 'Baseline_Sales', 'Incremental_Sales_Lift']].head())"
   ]
  },
  {
   "cell_type": "code",
   "execution_count": 4,
   "id": "05d21b60-8192-4ab9-a332-037d0ce270e5",
   "metadata": {},
   "outputs": [
    {
     "name": "stdout",
     "output_type": "stream",
     "text": [
      "\n",
      "--- Final Target Variable Check ---\n",
      "   Is_Promoted  Incremental_Sales_Lift  Success_Flag\n",
      "0            0                       0             0\n",
      "1            1                      35             1\n",
      "2            1                      40             1\n",
      "3            0                       0             0\n",
      "4            0                       0             0\n",
      "5            0                       0             0\n",
      "6            0                       0             0\n",
      "7            1                      32             1\n",
      "8            0                       0             0\n",
      "9            1                      25             1\n"
     ]
    }
   ],
   "source": [
    "# Constants based on user input\n",
    "PROFIT_PER_UNIT = 1.00\n",
    "PROMOTIONAL_COST = 20\n",
    "\n",
    "# 1. Calculate Breakeven Volume (BEV)\n",
    "BREAKEVEN_VOLUME = PROMOTIONAL_COST / PROFIT_PER_UNIT  # Result: 100 units\n",
    "\n",
    "# 2. Add financial columns (useful for later analysis, though BEV is constant here)\n",
    "df['Profit_Per_Unit'] = PROFIT_PER_UNIT\n",
    "df['Promotional_Cost'] = PROMOTIONAL_COST\n",
    "\n",
    "# 3. Create the Binary Target Variable: 'Success_Flag'\n",
    "# np.where(condition, value_if_true, value_if_false)\n",
    "df['Success_Flag'] = np.where(\n",
    "    # Condition: Is the Lift greater than the Breakeven Volume?\n",
    "    (df['Incremental_Sales_Lift'] > BREAKEVEN_VOLUME),\n",
    "    1, # Value if True (Success)\n",
    "    0  # Value if False (Failure)\n",
    ")\n",
    "\n",
    "# 4. Display the resulting columns for analysis\n",
    "print(\"\\n--- Final Target Variable Check ---\")\n",
    "print(df[['Is_Promoted', 'Incremental_Sales_Lift', 'Success_Flag']].head(10))"
   ]
  },
  {
   "cell_type": "code",
   "execution_count": 5,
   "id": "2eeee26b-0a19-4342-8285-3e0c234652e2",
   "metadata": {},
   "outputs": [],
   "source": [
    "# 1. Initialize promotion features\n",
    "df['Promo_Type'] = 'None'\n",
    "df['Discount_Depth'] = 0.0\n",
    "\n",
    "# Mask for promoted weeks (where we need a Promo_Type)\n",
    "promoted_mask = df['Is_Promoted'] == 1\n",
    "promoted_df = df[promoted_mask].copy()\n",
    "\n",
    "# 2. Assign features based on Success_Flag (introducing bias)\n",
    "np.random.seed(42)\n",
    "\n",
    "# High Success Rate Promotions (mostly BOGO)\n",
    "success_mask = promoted_df['Success_Flag'] == 1\n",
    "promoted_df.loc[success_mask, 'Promo_Type'] = np.random.choice(\n",
    "    ['BOGO', 'Simple Discount'],\n",
    "    size=success_mask.sum(),\n",
    "    p=[0.75, 0.25]  # 75% chance of being BOGO\n",
    ")\n",
    "promoted_df.loc[success_mask, 'Discount_Depth'] = np.where(\n",
    "    promoted_df.loc[success_mask, 'Promo_Type'] == 'BOGO', 0.50, 0.15\n",
    ")\n",
    "\n",
    "# Low Success Rate Promotions (mostly Simple Discount 15%)\n",
    "failure_mask = promoted_df['Success_Flag'] == 0\n",
    "promoted_df.loc[failure_mask, 'Promo_Type'] = np.random.choice(\n",
    "    ['BOGO', 'Simple Discount'],\n",
    "    size=failure_mask.sum(),\n",
    "    p=[0.25, 0.75]  # 75% chance of being Simple Discount\n",
    ")\n",
    "promoted_df.loc[failure_mask, 'Discount_Depth'] = np.where(\n",
    "    promoted_df.loc[failure_mask, 'Promo_Type'] == 'BOGO', 0.50, 0.15\n",
    ")\n",
    "\n",
    "# Update the main DataFrame\n",
    "df.loc[promoted_mask, ['Promo_Type', 'Discount_Depth']] = promoted_df[['Promo_Type', 'Discount_Depth']]"
   ]
  },
  {
   "cell_type": "code",
   "execution_count": 6,
   "id": "933548de-d7b8-4626-b87e-4d442963e945",
   "metadata": {},
   "outputs": [
    {
     "name": "stdout",
     "output_type": "stream",
     "text": [
      "\n",
      "--- Store Format Bias Check (Success_Flag) ---\n",
      "Store_Format\n",
      "Convenience Store    0.175838\n",
      "Hypermarket          0.252133\n",
      "Name: Success_Flag, dtype: float64\n"
     ]
    }
   ],
   "source": [
    "# 1. Map Store_IDs to formats\n",
    "store_mapping = {}\n",
    "np.random.seed(42)\n",
    "\n",
    "# Assign 15 stores to 'Hypermarket' and 5 to 'Convenience Store'\n",
    "all_stores = df['Store_ID'].unique()\n",
    "hypermarket_stores = np.random.choice(all_stores, 15, replace=False)\n",
    "\n",
    "for store in all_stores:\n",
    "    if store in hypermarket_stores:\n",
    "        store_mapping[store] = 'Hypermarket'\n",
    "    else:\n",
    "        store_mapping[store] = 'Convenience Store'\n",
    "\n",
    "df['Store_Format'] = df['Store_ID'].map(store_mapping)\n",
    "\n",
    "# 2. Add bias to the Success_Flag based on Store_Format\n",
    "# We want successful promotions in Hypermarkets to retain their '1' more often\n",
    "# and successful promotions in Convenience Stores to flip to '0' (failure) more often.\n",
    "\n",
    "# Create a temporary mask for promoted rows that were a SUCCESS (1)\n",
    "success_promotions_mask = (df['Is_Promoted'] == 1) & (df['Success_Flag'] == 1)\n",
    "\n",
    "# Apply a slight downgrade to Convenience Stores to reflect lower volume capacity\n",
    "convenience_downgrade_mask = (success_promotions_mask) & (df['Store_Format'] == 'Convenience Store')\n",
    "\n",
    "# Randomly flip 30% of successful Convenience Store promotions to a FAILURE (0)\n",
    "# This simulates how the lower traffic fails to hit the BEV even with a great promo.\n",
    "np.random.seed(42)\n",
    "flip_indices = np.random.choice(\n",
    "    df[convenience_downgrade_mask].index,\n",
    "    size=int(len(df[convenience_downgrade_mask]) * 0.30),\n",
    "    replace=False\n",
    ")\n",
    "df.loc[flip_indices, 'Success_Flag'] = 0\n",
    "\n",
    "print(\"\\n--- Store Format Bias Check (Success_Flag) ---\")\n",
    "print(df.groupby('Store_Format')['Success_Flag'].mean())"
   ]
  },
  {
   "cell_type": "code",
   "execution_count": 7,
   "id": "a0d86891-d336-479c-b683-ab333fe4d564",
   "metadata": {},
   "outputs": [
    {
     "name": "stdout",
     "output_type": "stream",
     "text": [
      "\n",
      "--- Model Features (X) after Encoding ---\n",
      "   Is_Promoted  Discount_Depth  Promo_Type_None  Promo_Type_Simple Discount  \\\n",
      "0            0            0.00             True                       False   \n",
      "1            1            0.50            False                       False   \n",
      "2            1            0.15            False                        True   \n",
      "3            0            0.00             True                       False   \n",
      "4            0            0.00             True                       False   \n",
      "\n",
      "   Store_Format_Hypermarket  \n",
      "0                      True  \n",
      "1                      True  \n",
      "2                      True  \n",
      "3                      True  \n",
      "4                      True  \n"
     ]
    }
   ],
   "source": [
    "# 1. Select the features we want to use for the model (our X variables)\n",
    "features = ['Is_Promoted', 'Discount_Depth', 'Promo_Type', 'Store_Format']\n",
    "X = df[features]\n",
    "y = df['Success_Flag'] # Our target variable\n",
    "\n",
    "# 2. Apply One-Hot Encoding to the categorical features\n",
    "X = pd.get_dummies(X, columns=['Promo_Type', 'Store_Format'], drop_first=True)\n",
    "\n",
    "# Drop_first=True prevents perfect multicollinearity (a technical requirement)\n",
    "print(\"\\n--- Model Features (X) after Encoding ---\")\n",
    "print(X.head())\n",
    "\n",
    "# 3. Handle the remaining numerical features (no action needed here, but good practice)\n",
    "# X['Discount_Depth'] is already numerical."
   ]
  },
  {
   "cell_type": "code",
   "execution_count": 8,
   "id": "ee5c103f-a497-438b-a7da-d805d5d5475c",
   "metadata": {},
   "outputs": [
    {
     "name": "stdout",
     "output_type": "stream",
     "text": [
      "Success Flag updated. New Breakeven Volume: 20.0 units.\n"
     ]
    }
   ],
   "source": [
    "import numpy as np\n",
    "\n",
    "# Step 1: Update the Financial Parameters (Cost = 40 AED)\n",
    "PROFIT_PER_UNIT = 1.00\n",
    "PROMOTIONAL_COST = 20.0 # Corrected Cost to make BEV achievable\n",
    "\n",
    "# Step 2: Recalculate Breakeven Volume (BEV)\n",
    "BREAKEVEN_VOLUME = PROMOTIONAL_COST / PROFIT_PER_UNIT  # Result: 20 units\n",
    "\n",
    "# Step 3: Recalculate the Binary Target Variable: 'Success_Flag'\n",
    "# This uses the new BEV of 40 units.\n",
    "df['Success_Flag'] = np.where(\n",
    "    # Condition: Is the Lift greater than the new Breakeven Volume (40)?\n",
    "    (df['Incremental_Sales_Lift'] > BREAKEVEN_VOLUME),\n",
    "    1, # Success\n",
    "    0  # Failure\n",
    ")\n",
    "\n",
    "print(f\"Success Flag updated. New Breakeven Volume: {BREAKEVEN_VOLUME} units.\")\n",
    "# Now, your downstream steps for feature biasing, train/test split, and model training must be re-executed!"
   ]
  },
  {
   "cell_type": "code",
   "execution_count": 22,
   "id": "ffd45e98-cd29-4916-8b90-375f501ce8da",
   "metadata": {},
   "outputs": [],
   "source": [
    "# Save the final engineered DataFrame\n",
    "df.to_csv('fmcg_promotion_data.csv', index=False)"
   ]
  }
 ],
 "metadata": {
  "kernelspec": {
   "display_name": "Python 3 (ipykernel)",
   "language": "python",
   "name": "python3"
  },
  "language_info": {
   "codemirror_mode": {
    "name": "ipython",
    "version": 3
   },
   "file_extension": ".py",
   "mimetype": "text/x-python",
   "name": "python",
   "nbconvert_exporter": "python",
   "pygments_lexer": "ipython3",
   "version": "3.11.13"
  }
 },
 "nbformat": 4,
 "nbformat_minor": 5
}
